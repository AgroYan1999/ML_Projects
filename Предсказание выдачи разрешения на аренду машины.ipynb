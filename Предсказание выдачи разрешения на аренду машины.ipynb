{
 "cells": [
  {
   "cell_type": "code",
   "execution_count": 111,
   "metadata": {},
   "outputs": [],
   "source": [
    "import numpy as np\n",
    "import pandas as pd\n",
    "import warnings\n",
    "warnings.filterwarnings(\"ignore\")"
   ]
  },
  {
   "cell_type": "code",
   "execution_count": 112,
   "metadata": {},
   "outputs": [],
   "source": [
    "data = pd.read_csv(\"car_data.csv\")\n",
    "data = data.drop([\"User ID\"], axis=1)"
   ]
  },
  {
   "cell_type": "code",
   "execution_count": 113,
   "metadata": {},
   "outputs": [],
   "source": [
    "def function_gender(gender):\n",
    "    if gender == \"Male\":\n",
    "        return 0\n",
    "    else:\n",
    "        return 1\n",
    "\n",
    "data[\"Gender\"] = data[\"Gender\"].apply(lambda x: function_gender(x))"
   ]
  },
  {
   "cell_type": "code",
   "execution_count": 114,
   "metadata": {},
   "outputs": [],
   "source": [
    "def function_age(age):\n",
    "    if 18 <= age <= 25:\n",
    "        return \"18-25\"\n",
    "    if 26 <= age < 30:\n",
    "        return \"26-29\"\n",
    "    if 30 <= age < 35:\n",
    "        return \"30-34\"\n",
    "    if 35 <= age < 40:\n",
    "        return \"35-39\"\n",
    "    if 40 <= age < 45:\n",
    "        return \"40-44\"\n",
    "    if 45 <= age < 50:\n",
    "        return \"45-49\"\n",
    "    if 50 <= age < 55:\n",
    "        return \"50-54\"\n",
    "    if 55 <= age < 60:\n",
    "        return \"55-59\"\n",
    "    else:\n",
    "        return \"60+\"\n",
    " "
   ]
  },
  {
   "cell_type": "code",
   "execution_count": 115,
   "metadata": {},
   "outputs": [],
   "source": [
    "data[\"Age\"] = data[\"Age\"].apply(lambda x: function_age(x))\n",
    "data = pd.get_dummies(data, columns=[\"Age\"])"
   ]
  },
  {
   "cell_type": "code",
   "execution_count": 116,
   "metadata": {},
   "outputs": [
    {
     "name": "stdout",
     "output_type": "stream",
     "text": [
      "Очень слабая корреляция: 0.04721142724778844\n",
      "Удалим признак Gender\n"
     ]
    }
   ],
   "source": [
    "print(\"Очень слабая корреляция:\", data[\"Gender\"].corr(data[\"Purchased\"]))\n",
    "print(\"Удалим признак Gender\")\n",
    "data = data.drop([\"Gender\"], axis = 1)"
   ]
  },
  {
   "cell_type": "code",
   "execution_count": 117,
   "metadata": {},
   "outputs": [],
   "source": [
    "from sklearn.preprocessing import MinMaxScaler\n",
    "scaler = MinMaxScaler()\n",
    "data[[\"AnnualSalary\"]] = scaler.fit_transform(data[[\"AnnualSalary\"]])"
   ]
  },
  {
   "cell_type": "code",
   "execution_count": 118,
   "metadata": {},
   "outputs": [],
   "source": [
    "from sklearn.model_selection import train_test_split\n",
    "X = data.drop([\"Purchased\"], axis=1)\n",
    "y = data[\"Purchased\"]\n",
    "X_train, X_test, y_train, y_test = train_test_split(X, y, train_size=0.67, random_state=42)"
   ]
  },
  {
   "cell_type": "code",
   "execution_count": 119,
   "metadata": {},
   "outputs": [
    {
     "name": "stdout",
     "output_type": "stream",
     "text": [
      "0.8515151515151516\n",
      "0.7801418439716312\n",
      "0.859375\n",
      "0.8178438661710037\n"
     ]
    }
   ],
   "source": [
    "from sklearn.linear_model import LogisticRegression\n",
    "from sklearn.metrics import accuracy_score, recall_score, precision_score, f1_score\n",
    "reg = LogisticRegression()\n",
    "reg.fit(X_train, y_train)\n",
    "y_predict = reg.predict(X_test)\n",
    "print(accuracy_score(y_test, y_predict))\n",
    "print(recall_score(y_test, y_predict))\n",
    "print(precision_score(y_test, y_predict))\n",
    "print(f1_score(y_test, y_predict))"
   ]
  },
  {
   "cell_type": "code",
   "execution_count": 120,
   "metadata": {},
   "outputs": [
    {
     "name": "stdout",
     "output_type": "stream",
     "text": [
      "0.8939393939393939\n",
      "0.8297872340425532\n",
      "0.9140625\n",
      "0.8698884758364313\n"
     ]
    }
   ],
   "source": [
    "from sklearn.ensemble import RandomForestClassifier\n",
    "reg = RandomForestClassifier()\n",
    "reg.fit(X_train, y_train)\n",
    "y_predict = reg.predict(X_test)\n",
    "print(accuracy_score(y_test, y_predict))\n",
    "print(recall_score(y_test, y_predict))\n",
    "print(precision_score(y_test, y_predict))\n",
    "print(f1_score(y_test, y_predict))"
   ]
  },
  {
   "cell_type": "code",
   "execution_count": 121,
   "metadata": {},
   "outputs": [
    {
     "name": "stdout",
     "output_type": "stream",
     "text": [
      "0.9090909090909091\n",
      "0.851063829787234\n",
      "0.9302325581395349\n",
      "0.888888888888889\n"
     ]
    }
   ],
   "source": [
    "from sklearn.ensemble import GradientBoostingClassifier\n",
    "reg = GradientBoostingClassifier()\n",
    "reg.fit(X_train, y_train)\n",
    "y_predict = reg.predict(X_test)\n",
    "print(accuracy_score(y_test, y_predict))\n",
    "print(recall_score(y_test, y_predict))\n",
    "print(precision_score(y_test, y_predict))\n",
    "print(f1_score(y_test, y_predict))"
   ]
  },
  {
   "cell_type": "code",
   "execution_count": 122,
   "metadata": {},
   "outputs": [
    {
     "name": "stdout",
     "output_type": "stream",
     "text": [
      "0.9030303030303031\n",
      "0.8581560283687943\n",
      "0.9097744360902256\n",
      "0.8832116788321168\n"
     ]
    }
   ],
   "source": [
    "from xgboost import XGBClassifier\n",
    "reg = XGBClassifier()\n",
    "reg.fit(X_train, y_train)\n",
    "y_predict = reg.predict(X_test)\n",
    "print(accuracy_score(y_test, y_predict))\n",
    "print(recall_score(y_test, y_predict))\n",
    "print(precision_score(y_test, y_predict))\n",
    "print(f1_score(y_test, y_predict))"
   ]
  },
  {
   "cell_type": "code",
   "execution_count": 123,
   "metadata": {},
   "outputs": [
    {
     "name": "stdout",
     "output_type": "stream",
     "text": [
      "0.8878787878787879\n",
      "0.8297872340425532\n",
      "0.9\n",
      "0.8634686346863468\n"
     ]
    }
   ],
   "source": [
    "from sklearn.tree import DecisionTreeClassifier\n",
    "reg = DecisionTreeClassifier()\n",
    "reg.fit(X_train, y_train)\n",
    "y_predict = reg.predict(X_test)\n",
    "print(accuracy_score(y_test, y_predict))\n",
    "print(recall_score(y_test, y_predict))\n",
    "print(precision_score(y_test, y_predict))\n",
    "print(f1_score(y_test, y_predict))"
   ]
  },
  {
   "cell_type": "code",
   "execution_count": null,
   "metadata": {},
   "outputs": [],
   "source": []
  },
  {
   "cell_type": "code",
   "execution_count": null,
   "metadata": {},
   "outputs": [],
   "source": []
  },
  {
   "cell_type": "code",
   "execution_count": null,
   "metadata": {},
   "outputs": [],
   "source": []
  },
  {
   "cell_type": "code",
   "execution_count": null,
   "metadata": {},
   "outputs": [],
   "source": []
  }
 ],
 "metadata": {
  "kernelspec": {
   "display_name": "Python 3",
   "language": "python",
   "name": "python3"
  },
  "language_info": {
   "codemirror_mode": {
    "name": "ipython",
    "version": 3
   },
   "file_extension": ".py",
   "mimetype": "text/x-python",
   "name": "python",
   "nbconvert_exporter": "python",
   "pygments_lexer": "ipython3",
   "version": "3.7.3"
  }
 },
 "nbformat": 4,
 "nbformat_minor": 2
}
